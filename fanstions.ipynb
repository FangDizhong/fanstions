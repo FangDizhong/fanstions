{
  "nbformat": 4,
  "nbformat_minor": 0,
  "metadata": {
    "colab": {
      "name": "fanstions.ipynb",
      "provenance": [],
      "collapsed_sections": [],
      "toc_visible": true,
      "authorship_tag": "ABX9TyMEjDlWZL2gpf9Ts2PaGUIJ",
      "include_colab_link": true
    },
    "kernelspec": {
      "name": "python3",
      "display_name": "Python 3"
    },
    "language_info": {
      "name": "python"
    }
  },
  "cells": [
    {
      "cell_type": "markdown",
      "metadata": {
        "id": "view-in-github",
        "colab_type": "text"
      },
      "source": [
        "<a href=\"https://colab.research.google.com/github/FangDizhong/fanstions/blob/main/fanstions.ipynb\" target=\"_parent\"><img src=\"https://colab.research.google.com/assets/colab-badge.svg\" alt=\"Open In Colab\"/></a>"
      ]
    },
    {
      "cell_type": "markdown",
      "source": [
        "# - Get ID from url"
      ],
      "metadata": {
        "id": "iDfAKQBfoQcH"
      }
    },
    {
      "cell_type": "code",
      "execution_count": null,
      "metadata": {
        "id": "xWfCwFJMNt6O"
      },
      "outputs": [],
      "source": [
        "def get_id_from_url(url:str):\n",
        "    \n",
        "    _URL_DICT = {\n",
        "        \"spreadsheets\": [ \"/spreadsheets/d/\", \"/edit#gid=\" ]\n",
        "        }\n",
        "\n",
        "    try:\n",
        "        for url_source in _URL_DICT:\n",
        "            if url_source in url:\n",
        "                # _string_? are the breakpoints for ID extraction\n",
        "                _string_1 = _URL_DICT[url_source][0]\n",
        "                _string_2 = _URL_DICT[url_source][1]\n",
        "\n",
        "                # the first one will be the main_id, while the next one will be the sub_id\n",
        "                main_id =url.split(_string_1)[1].split(_string_2)[0]\n",
        "                sub_id =url.split(_string_2)[1]\n",
        "\n",
        "                return {\"main_id\": main_id, \"sub_id\": sub_id}\n",
        "\n",
        "    except:\n",
        "        print( \"The url source is not available.\")"
      ]
    }
  ]
}